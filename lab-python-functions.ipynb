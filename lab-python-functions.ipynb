{
 "cells": [
  {
   "cell_type": "markdown",
   "id": "25d7736c-ba17-4aff-b6bb-66eba20fbf4e",
   "metadata": {},
   "source": [
    "# Lab | Functions"
   ]
  },
  {
   "cell_type": "markdown",
   "id": "0c581062-8967-4d93-b06e-62833222f930",
   "metadata": {
    "tags": []
   },
   "source": [
    "## Exercise: Managing Customer Orders with Functions\n",
    "\n",
    "In the previous exercise, you improved the code for managing customer orders by using loops and flow control. Now, let's take it a step further and refactor the code by introducing functions.\n",
    "\n",
    "Follow the steps below to complete the exercise:\n",
    "\n",
    "1. Define a function named `initialize_inventory` that takes `products` as a parameter. Inside the function, implement the code for initializing the inventory dictionary using a loop and user input.\n",
    "\n",
    "2. Define a function named `get_customer_orders` that takes no parameters. Inside the function, implement the code for prompting the user to enter the product names using a loop. The function should return the `customer_orders` set.\n",
    "\n",
    "3. Define a function named `update_inventory` that takes `customer_orders` and `inventory` as parameters. Inside the function, implement the code for updating the inventory dictionary based on the customer orders.\n",
    "\n",
    "4. Define a function named `calculate_order_statistics` that takes `customer_orders` and `products` as parameters. Inside the function, implement the code for calculating the order statistics (total products ordered, and percentage of unique products ordered). The function should return these values.\n",
    "\n",
    "5. Define a function named `print_order_statistics` that takes `order_statistics` as a parameter. Inside the function, implement the code for printing the order statistics.\n",
    "\n",
    "6. Define a function named `print_updated_inventory` that takes `inventory` as a parameter. Inside the function, implement the code for printing the updated inventory.\n",
    "\n",
    "7. Call the functions in the appropriate sequence to execute the program and manage customer orders.\n",
    "\n",
    "Hints for functions:\n",
    "\n",
    "- Consider the input parameters required for each function and their return values.\n",
    "- Utilize function parameters and return values to transfer data between functions.\n",
    "- Test your functions individually to ensure they work correctly.\n",
    "\n",
    "\n"
   ]
  },
  {
   "cell_type": "code",
   "execution_count": 8,
   "id": "fbe1bf5c",
   "metadata": {},
   "outputs": [],
   "source": [
    "#1 Define a function named initialize_inventory that takes products as a parameter\n",
    "#  Inside the function, implement the code for initializing the inventory dictionary using a loop and user input\n",
    "\n",
    "products = [\"keychain\", \"mug\", \"beer\", \"wine\", \"cereal\", \"milk\"]\n",
    "quantitylist = []\n",
    "inventory = {}\n",
    "def initialize_inventory(products):\n",
    "    x=0\n",
    "    for item in products:\n",
    "        quantity = int(input(f\"Enter the quantity of {item} available: \"))\n",
    "        quantitylist.append(quantity)\n",
    "    for product in products:\n",
    "        inventory[product] = quantitylist[x]\n",
    "        x += 1\n",
    "    return inventory"
   ]
  },
  {
   "cell_type": "code",
   "execution_count": 9,
   "id": "0d859fff",
   "metadata": {
    "scrolled": true
   },
   "outputs": [],
   "source": [
    "#2. Define a function named `get_customer_orders` that takes no parameters. \n",
    "#   Inside the function, implement the code for prompting the user to enter the product names using a loop. \n",
    "#   The function should return the `customer_orders` set.\n",
    "\n",
    "customer_order = set()\n",
    "def get_customer_order():\n",
    "    still_order = \"yes\"\n",
    "    while still_order == \"yes\":\n",
    "        order = input(\"Enter your order: \")\n",
    "        customer_order.add(order)\n",
    "        still_order = input(\"Continue order? yes/no\")\n",
    "    return customer_order"
   ]
  },
  {
   "cell_type": "code",
   "execution_count": 10,
   "id": "711479b3",
   "metadata": {},
   "outputs": [],
   "source": [
    "#3. Define a function named update_inventory that takes customer_orders and inventory as parameters. \n",
    "#   Inside the function, implement the code for updating the inventory dictionary based on the customer orders.\n",
    "\n",
    "\n",
    "def update_inventory(inventory, customer_order):\n",
    "    for product in customer_order:\n",
    "        order_quantity = int(input(f\"Enter the order quantity for {product}: \"))\n",
    "        if product in inventory:\n",
    "            inventory[product] = inventory[product] - order_quantity\n",
    "    return inventory"
   ]
  },
  {
   "cell_type": "code",
   "execution_count": 12,
   "id": "6398098c",
   "metadata": {},
   "outputs": [],
   "source": [
    "#4. Define a function named calculate_order_statistics that takes customer_orders and products as parameters.\n",
    "#   Inside the function, implement the code for calculating the order statistics (total products ordered, \n",
    "#   and percentage of unique products ordered). The function should return these values.\n",
    "\n",
    "def calculate_order_statistics(customer_order, products):\n",
    "    customer_orderlist = list(customer_order)\n",
    "    total_products_ordered = len(customer_orderlist)\n",
    "    for products in customer_orderlist:\n",
    "        percentage_products_ordered = total_products_ordered / (total_products_ordered + len(products))\n",
    "    return total_products_ordered, percentage_products_ordered"
   ]
  },
  {
   "cell_type": "code",
   "execution_count": 13,
   "id": "c30495fe",
   "metadata": {},
   "outputs": [],
   "source": [
    "#5. Define a function named print_order_statistics that takes order_statistics as a parameter. \n",
    "#   Inside the function, implement the code for printing the order statistics.\n",
    "# done in 4."
   ]
  },
  {
   "cell_type": "code",
   "execution_count": 14,
   "id": "3f53f33f",
   "metadata": {},
   "outputs": [],
   "source": [
    "#6. Define a function named print_updated_inventory that takes inventory as a parameter. \n",
    "#   Inside the function, implement the code for printing the updated inventory.\n",
    "#done in 3."
   ]
  },
  {
   "cell_type": "code",
   "execution_count": 15,
   "id": "2330debe",
   "metadata": {},
   "outputs": [
    {
     "name": "stdout",
     "output_type": "stream",
     "text": [
      "Enter the quantity of keychain available: 4332432\n",
      "Enter the quantity of mug available: 34324\n",
      "Enter the quantity of beer available: 324\n",
      "Enter the quantity of wine available: 3242\n",
      "Enter the quantity of cereal available: 2423\n",
      "Enter the quantity of milk available: 242\n",
      "Enter your order: wine\n",
      "Continue order? yes/noyes\n",
      "Enter your order: beer\n",
      "Continue order? yes/nono\n",
      "Enter the order quantity for beer: 5\n",
      "Enter the order quantity for wine: 5\n",
      "Customer order is: {'beer', 'wine'}\n",
      "Updated inventory: {'keychain': 4332432, 'mug': 34324, 'beer': 319, 'wine': 3237, 'cereal': 2423, 'milk': 242}\n",
      "Order Statistics: (2, 0.3333333333333333)\n"
     ]
    }
   ],
   "source": [
    "##### 7. Call the functions in the appropriate sequence to execute the program and manage customer orders.\n",
    "\n",
    "initialize_inventory(products)\n",
    "customer_order = get_customer_order()\n",
    "updated_inventory = update_inventory(inventory, customer_order)\n",
    "order_statistics = calculate_order_statistics(customer_order, products)\n",
    "print(f\"Customer order is: {customer_order}\")\n",
    "print(f\"Updated inventory: {updated_inventory}\")\n",
    "print(f\"Order Statistics: {order_statistics}\")"
   ]
  },
  {
   "cell_type": "markdown",
   "id": "42541407",
   "metadata": {},
   "source": [
    "##### "
   ]
  }
 ],
 "metadata": {
  "kernelspec": {
   "display_name": "Python 3 (ipykernel)",
   "language": "python",
   "name": "python3"
  },
  "language_info": {
   "codemirror_mode": {
    "name": "ipython",
    "version": 3
   },
   "file_extension": ".py",
   "mimetype": "text/x-python",
   "name": "python",
   "nbconvert_exporter": "python",
   "pygments_lexer": "ipython3",
   "version": "3.10.9"
  }
 },
 "nbformat": 4,
 "nbformat_minor": 5
}
